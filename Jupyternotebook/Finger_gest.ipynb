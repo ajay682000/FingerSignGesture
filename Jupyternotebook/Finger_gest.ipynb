{
 "cells": [
  {
   "cell_type": "code",
   "execution_count": 6,
   "metadata": {},
   "outputs": [],
   "source": [
    "from keras.models import load_model\n",
    "from keras.preprocessing import image\n",
    "from keras.preprocessing.image import ImageDataGenerator\n",
    "import numpy as np\n",
    "import cv2"
   ]
  },
  {
   "cell_type": "code",
   "execution_count": 7,
   "metadata": {},
   "outputs": [],
   "source": [
    "# Loading the trained model\n",
    "model = load_model('finger_sign.h5')\n",
    "img_dim = 128\n",
    "class_labels = ['five', 'four', 'none', 'one', 'three', 'two']"
   ]
  },
  {
   "cell_type": "code",
   "execution_count": 11,
   "metadata": {},
   "outputs": [],
   "source": [
    "# Starting to capture\n",
    "cap = cv2.VideoCapture(0)\n",
    "font = cv2.FONT_HERSHEY_SIMPLEX\n",
    "while True:\n",
    "    ret, frame = cap.read()\n",
    "#     Drawing the rectangle\n",
    "    cv2.rectangle(frame, (100,100), (500,500), (255,255,255), 2)\n",
    "    roi = frame[100:500, 100:500]\n",
    "    img = cv2.resize(roi, (img_dim,img_dim))\n",
    "    img = image.img_to_array(img)\n",
    "    img = np.expand_dims(img, axis=0)\n",
    "    img = img.astype('float32')/255\n",
    "    pred = np.argmax(model.predict(img))\n",
    "    color = (0,0,255)\n",
    "# Putting the text on the screen\n",
    "    cv2.putText(frame, class_labels[pred], (50,50), font, 1.0, color, 2)\n",
    "#     Show the frame\n",
    "    cv2.imshow('Video', frame)\n",
    "# Pressing 'q' to quit\n",
    "    if cv2.waitKey(1) & 0xFF == ord('q'):\n",
    "        break\n",
    "cap.release()\n",
    "cv2.destroyAllWindows()"
   ]
  },
  {
   "cell_type": "code",
   "execution_count": null,
   "metadata": {},
   "outputs": [],
   "source": []
  }
 ],
 "metadata": {
  "kernelspec": {
   "display_name": "Python 3",
   "language": "python",
   "name": "python3"
  },
  "language_info": {
   "codemirror_mode": {
    "name": "ipython",
    "version": 3
   },
   "file_extension": ".py",
   "mimetype": "text/x-python",
   "name": "python",
   "nbconvert_exporter": "python",
   "pygments_lexer": "ipython3",
   "version": "3.7.4"
  }
 },
 "nbformat": 4,
 "nbformat_minor": 4
}
